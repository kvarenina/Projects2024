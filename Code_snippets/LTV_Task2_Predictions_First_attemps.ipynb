{
 "cells": [
  {
   "cell_type": "code",
   "execution_count": 1,
   "id": "312076af",
   "metadata": {},
   "outputs": [],
   "source": [
    "import pandas as pd\n",
    "import numpy as np\n",
    "import matplotlib.pyplot as plt\n",
    "df = pd.read_csv('C:/Users/Kate/Downloads/Product_Analysis_data2.csv')"
   ]
  },
  {
   "cell_type": "code",
   "execution_count": 2,
   "id": "e5313636",
   "metadata": {},
   "outputs": [
    {
     "data": {
      "text/plain": [
       "Index(['user_id', 'event_timestamp', 'first_purchase_time', 'cohort_week',\n",
       "       'lifetime_weeks', 'product_id'],\n",
       "      dtype='object')"
      ]
     },
     "execution_count": 2,
     "metadata": {},
     "output_type": "execute_result"
    }
   ],
   "source": [
    "df.columns"
   ]
  },
  {
   "cell_type": "code",
   "execution_count": 3,
   "id": "c0073285",
   "metadata": {},
   "outputs": [],
   "source": [
    "# Convert time column to datetime type \n",
    "df['event_timestamp'] = pd.to_datetime(df['event_timestamp'])\n",
    "df['first_purchase_time'] = pd.to_datetime(df['first_purchase_time'])"
   ]
  },
  {
   "cell_type": "code",
   "execution_count": 4,
   "id": "b190cca9",
   "metadata": {},
   "outputs": [
    {
     "data": {
      "text/html": [
       "<div>\n",
       "<style scoped>\n",
       "    .dataframe tbody tr th:only-of-type {\n",
       "        vertical-align: middle;\n",
       "    }\n",
       "\n",
       "    .dataframe tbody tr th {\n",
       "        vertical-align: top;\n",
       "    }\n",
       "\n",
       "    .dataframe thead th {\n",
       "        text-align: right;\n",
       "    }\n",
       "</style>\n",
       "<table border=\"1\" class=\"dataframe\">\n",
       "  <thead>\n",
       "    <tr style=\"text-align: right;\">\n",
       "      <th></th>\n",
       "      <th>user_id</th>\n",
       "      <th>event_timestamp</th>\n",
       "      <th>first_purchase_time</th>\n",
       "      <th>cohort_week</th>\n",
       "      <th>lifetime_weeks</th>\n",
       "      <th>purchase</th>\n",
       "    </tr>\n",
       "  </thead>\n",
       "  <tbody>\n",
       "    <tr>\n",
       "      <th>0</th>\n",
       "      <td>6f8592c0-fb4c-47dc-9344-424eb5d88a4b</td>\n",
       "      <td>2023-10-13 09:54:02</td>\n",
       "      <td>2023-10-13 09:54:02</td>\n",
       "      <td>2023-10-08</td>\n",
       "      <td>0</td>\n",
       "      <td>2.49</td>\n",
       "    </tr>\n",
       "    <tr>\n",
       "      <th>1</th>\n",
       "      <td>95287b91-85af-4174-9986-aeafb3853bb6</td>\n",
       "      <td>2023-10-14 04:45:14</td>\n",
       "      <td>2023-03-25 04:44:40</td>\n",
       "      <td>2023-03-19</td>\n",
       "      <td>29</td>\n",
       "      <td>2.49</td>\n",
       "    </tr>\n",
       "    <tr>\n",
       "      <th>2</th>\n",
       "      <td>95287b91-85af-4174-9986-aeafb3853bb6</td>\n",
       "      <td>2023-03-25 04:44:40</td>\n",
       "      <td>2023-03-25 04:44:40</td>\n",
       "      <td>2023-03-19</td>\n",
       "      <td>0</td>\n",
       "      <td>2.49</td>\n",
       "    </tr>\n",
       "    <tr>\n",
       "      <th>3</th>\n",
       "      <td>95287b91-85af-4174-9986-aeafb3853bb6</td>\n",
       "      <td>2023-04-01 04:44:16</td>\n",
       "      <td>2023-03-25 04:44:40</td>\n",
       "      <td>2023-03-19</td>\n",
       "      <td>1</td>\n",
       "      <td>2.49</td>\n",
       "    </tr>\n",
       "    <tr>\n",
       "      <th>4</th>\n",
       "      <td>95287b91-85af-4174-9986-aeafb3853bb6</td>\n",
       "      <td>2023-04-08 04:45:55</td>\n",
       "      <td>2023-03-25 04:44:40</td>\n",
       "      <td>2023-03-19</td>\n",
       "      <td>2</td>\n",
       "      <td>2.49</td>\n",
       "    </tr>\n",
       "    <tr>\n",
       "      <th>...</th>\n",
       "      <td>...</td>\n",
       "      <td>...</td>\n",
       "      <td>...</td>\n",
       "      <td>...</td>\n",
       "      <td>...</td>\n",
       "      <td>...</td>\n",
       "    </tr>\n",
       "    <tr>\n",
       "      <th>6081</th>\n",
       "      <td>a4c941de-b4a2-431e-b882-38b78f6e6fbb</td>\n",
       "      <td>2023-09-21 06:54:50</td>\n",
       "      <td>2023-09-14 06:54:01</td>\n",
       "      <td>2023-09-10</td>\n",
       "      <td>1</td>\n",
       "      <td>2.49</td>\n",
       "    </tr>\n",
       "    <tr>\n",
       "      <th>6082</th>\n",
       "      <td>a4c941de-b4a2-431e-b882-38b78f6e6fbb</td>\n",
       "      <td>2023-09-28 06:54:39</td>\n",
       "      <td>2023-09-14 06:54:01</td>\n",
       "      <td>2023-09-10</td>\n",
       "      <td>2</td>\n",
       "      <td>2.49</td>\n",
       "    </tr>\n",
       "    <tr>\n",
       "      <th>6083</th>\n",
       "      <td>a4c941de-b4a2-431e-b882-38b78f6e6fbb</td>\n",
       "      <td>2023-10-05 06:54:19</td>\n",
       "      <td>2023-09-14 06:54:01</td>\n",
       "      <td>2023-09-10</td>\n",
       "      <td>3</td>\n",
       "      <td>2.49</td>\n",
       "    </tr>\n",
       "    <tr>\n",
       "      <th>6084</th>\n",
       "      <td>a4c941de-b4a2-431e-b882-38b78f6e6fbb</td>\n",
       "      <td>2023-10-12 06:53:58</td>\n",
       "      <td>2023-09-14 06:54:01</td>\n",
       "      <td>2023-09-10</td>\n",
       "      <td>4</td>\n",
       "      <td>2.49</td>\n",
       "    </tr>\n",
       "    <tr>\n",
       "      <th>6085</th>\n",
       "      <td>89d19767-3da9-4854-865b-26bea761cf8d</td>\n",
       "      <td>2023-09-23 19:28:23</td>\n",
       "      <td>2023-09-23 19:28:23</td>\n",
       "      <td>2023-09-17</td>\n",
       "      <td>0</td>\n",
       "      <td>2.49</td>\n",
       "    </tr>\n",
       "  </tbody>\n",
       "</table>\n",
       "<p>6086 rows × 6 columns</p>\n",
       "</div>"
      ],
      "text/plain": [
       "                                   user_id     event_timestamp  \\\n",
       "0     6f8592c0-fb4c-47dc-9344-424eb5d88a4b 2023-10-13 09:54:02   \n",
       "1     95287b91-85af-4174-9986-aeafb3853bb6 2023-10-14 04:45:14   \n",
       "2     95287b91-85af-4174-9986-aeafb3853bb6 2023-03-25 04:44:40   \n",
       "3     95287b91-85af-4174-9986-aeafb3853bb6 2023-04-01 04:44:16   \n",
       "4     95287b91-85af-4174-9986-aeafb3853bb6 2023-04-08 04:45:55   \n",
       "...                                    ...                 ...   \n",
       "6081  a4c941de-b4a2-431e-b882-38b78f6e6fbb 2023-09-21 06:54:50   \n",
       "6082  a4c941de-b4a2-431e-b882-38b78f6e6fbb 2023-09-28 06:54:39   \n",
       "6083  a4c941de-b4a2-431e-b882-38b78f6e6fbb 2023-10-05 06:54:19   \n",
       "6084  a4c941de-b4a2-431e-b882-38b78f6e6fbb 2023-10-12 06:53:58   \n",
       "6085  89d19767-3da9-4854-865b-26bea761cf8d 2023-09-23 19:28:23   \n",
       "\n",
       "     first_purchase_time cohort_week  lifetime_weeks  purchase  \n",
       "0    2023-10-13 09:54:02  2023-10-08               0      2.49  \n",
       "1    2023-03-25 04:44:40  2023-03-19              29      2.49  \n",
       "2    2023-03-25 04:44:40  2023-03-19               0      2.49  \n",
       "3    2023-03-25 04:44:40  2023-03-19               1      2.49  \n",
       "4    2023-03-25 04:44:40  2023-03-19               2      2.49  \n",
       "...                  ...         ...             ...       ...  \n",
       "6081 2023-09-14 06:54:01  2023-09-10               1      2.49  \n",
       "6082 2023-09-14 06:54:01  2023-09-10               2      2.49  \n",
       "6083 2023-09-14 06:54:01  2023-09-10               3      2.49  \n",
       "6084 2023-09-14 06:54:01  2023-09-10               4      2.49  \n",
       "6085 2023-09-23 19:28:23  2023-09-17               0      2.49  \n",
       "\n",
       "[6086 rows x 6 columns]"
      ]
     },
     "execution_count": 4,
     "metadata": {},
     "output_type": "execute_result"
    }
   ],
   "source": [
    "# turn string values into floats \n",
    "df = df.drop(['product_id'], axis=1)\n",
    "df['purchase'] = 2.49\n",
    "df"
   ]
  },
  {
   "cell_type": "code",
   "execution_count": 5,
   "id": "e2be450f",
   "metadata": {},
   "outputs": [
    {
     "data": {
      "text/plain": [
       "15154.140000000005"
      ]
     },
     "execution_count": 5,
     "metadata": {},
     "output_type": "execute_result"
    }
   ],
   "source": [
    "df['purchase'].sum() # загальний прибуток"
   ]
  },
  {
   "cell_type": "code",
   "execution_count": 6,
   "id": "1af053ba",
   "metadata": {},
   "outputs": [
    {
     "data": {
      "text/plain": [
       "934"
      ]
     },
     "execution_count": 6,
     "metadata": {},
     "output_type": "execute_result"
    }
   ],
   "source": [
    "df['user_id'].nunique()"
   ]
  },
  {
   "cell_type": "code",
   "execution_count": 7,
   "id": "7e4405c6",
   "metadata": {},
   "outputs": [
    {
     "data": {
      "text/plain": [
       "2.49    6086\n",
       "Name: purchase, dtype: int64"
      ]
     },
     "execution_count": 7,
     "metadata": {},
     "output_type": "execute_result"
    }
   ],
   "source": [
    "df['purchase'].value_counts() # загальна кількість підписок"
   ]
  },
  {
   "cell_type": "code",
   "execution_count": 8,
   "id": "1b87a913",
   "metadata": {},
   "outputs": [
    {
     "data": {
      "text/plain": [
       "7.603187643772593"
      ]
     },
     "execution_count": 8,
     "metadata": {},
     "output_type": "execute_result"
    }
   ],
   "source": [
    "df['lifetime_weeks'].mean() #середня тривалість життя клієнта"
   ]
  },
  {
   "cell_type": "code",
   "execution_count": 9,
   "id": "2eb30e10",
   "metadata": {},
   "outputs": [
    {
     "data": {
      "text/html": [
       "<div>\n",
       "<style scoped>\n",
       "    .dataframe tbody tr th:only-of-type {\n",
       "        vertical-align: middle;\n",
       "    }\n",
       "\n",
       "    .dataframe tbody tr th {\n",
       "        vertical-align: top;\n",
       "    }\n",
       "\n",
       "    .dataframe thead th {\n",
       "        text-align: right;\n",
       "    }\n",
       "</style>\n",
       "<table border=\"1\" class=\"dataframe\">\n",
       "  <thead>\n",
       "    <tr style=\"text-align: right;\">\n",
       "      <th></th>\n",
       "      <th>cohort_week</th>\n",
       "      <th>rev_per_cohort</th>\n",
       "    </tr>\n",
       "  </thead>\n",
       "  <tbody>\n",
       "    <tr>\n",
       "      <th>0</th>\n",
       "      <td>2023-02-26</td>\n",
       "      <td>408.36</td>\n",
       "    </tr>\n",
       "    <tr>\n",
       "      <th>1</th>\n",
       "      <td>2023-03-05</td>\n",
       "      <td>1591.11</td>\n",
       "    </tr>\n",
       "    <tr>\n",
       "      <th>2</th>\n",
       "      <td>2023-03-12</td>\n",
       "      <td>1217.61</td>\n",
       "    </tr>\n",
       "    <tr>\n",
       "      <th>3</th>\n",
       "      <td>2023-03-19</td>\n",
       "      <td>1411.83</td>\n",
       "    </tr>\n",
       "    <tr>\n",
       "      <th>4</th>\n",
       "      <td>2023-03-26</td>\n",
       "      <td>933.75</td>\n",
       "    </tr>\n",
       "  </tbody>\n",
       "</table>\n",
       "</div>"
      ],
      "text/plain": [
       "  cohort_week  rev_per_cohort\n",
       "0  2023-02-26          408.36\n",
       "1  2023-03-05         1591.11\n",
       "2  2023-03-12         1217.61\n",
       "3  2023-03-19         1411.83\n",
       "4  2023-03-26          933.75"
      ]
     },
     "execution_count": 9,
     "metadata": {},
     "output_type": "execute_result"
    }
   ],
   "source": [
    "# Calculate revenue for each cohort\n",
    "cohorts = df.groupby('cohort_week')\n",
    "revenue_per_cohort = cohorts['purchase'].sum().reset_index()\n",
    "revenue_per_cohort.rename(columns={'purchase': 'rev_per_cohort'}, inplace=True)\n",
    "revenue_per_cohort.head() "
   ]
  },
  {
   "cell_type": "code",
   "execution_count": 10,
   "id": "b3b15fd7",
   "metadata": {},
   "outputs": [
    {
     "name": "stderr",
     "output_type": "stream",
     "text": [
      "<ipython-input-10-492e0674f36c>:1: FutureWarning: Dropping of nuisance columns in DataFrame reductions (with 'numeric_only=None') is deprecated; in a future version this will raise TypeError.  Select only valid columns before calling the reduction.\n",
      "  revenue_per_cohort.mean()\n"
     ]
    },
    {
     "data": {
      "text/plain": [
       "rev_per_cohort    473.566875\n",
       "dtype: float64"
      ]
     },
     "execution_count": 10,
     "metadata": {},
     "output_type": "execute_result"
    }
   ],
   "source": [
    "revenue_per_cohort.mean()"
   ]
  },
  {
   "cell_type": "code",
   "execution_count": 11,
   "id": "2c95d5e7",
   "metadata": {},
   "outputs": [
    {
     "ename": "NameError",
     "evalue": "name 'purchase_for_week' is not defined",
     "output_type": "error",
     "traceback": [
      "\u001b[1;31m---------------------------------------------------------------------------\u001b[0m",
      "\u001b[1;31mNameError\u001b[0m                                 Traceback (most recent call last)",
      "\u001b[1;32m<ipython-input-11-665442d6c341>\u001b[0m in \u001b[0;36m<module>\u001b[1;34m\u001b[0m\n\u001b[1;32m----> 1\u001b[1;33m \u001b[0mpurchase_for_week\u001b[0m\u001b[1;33m.\u001b[0m\u001b[0mmean\u001b[0m\u001b[1;33m(\u001b[0m\u001b[1;33m)\u001b[0m\u001b[1;33m\u001b[0m\u001b[1;33m\u001b[0m\u001b[0m\n\u001b[0m",
      "\u001b[1;31mNameError\u001b[0m: name 'purchase_for_week' is not defined"
     ]
    }
   ],
   "source": [
    "purchase_for_week.mean()"
   ]
  },
  {
   "cell_type": "code",
   "execution_count": null,
   "id": "bab63e6b",
   "metadata": {},
   "outputs": [],
   "source": [
    "data = pd.merge(df, revenue_per_cohort, on='cohort_week', how='left')\n",
    "data"
   ]
  },
  {
   "cell_type": "code",
   "execution_count": null,
   "id": "09020b73",
   "metadata": {},
   "outputs": [],
   "source": [
    "# CLV / ACL (Customer Lifetime Value * Average Customer Lifetime)\n",
    "data['LTV'] = data['rev_per_cohort'].mean() / data['lifetime_weeks'].mean() # У ФОРМУЛІ МАЄ БУТИ МНОЖЕННЯ?\n",
    "data"
   ]
  },
  {
   "cell_type": "code",
   "execution_count": null,
   "id": "9a65399b",
   "metadata": {},
   "outputs": [],
   "source": [
    "# ARPU X CL (Average revenue per user (MRR/total users)  / Customer Lifetime)\n",
    "data['ARPU'] = 16.22\n",
    "data['LTV2'] = data['ARPU'] * data['lifetime_weeks']\n",
    "data"
   ]
  },
  {
   "cell_type": "code",
   "execution_count": null,
   "id": "274ee11a",
   "metadata": {},
   "outputs": [],
   "source": [
    "data['LTV2'].mean()\n"
   ]
  },
  {
   "cell_type": "markdown",
   "id": "267069d8",
   "metadata": {},
   "source": [
    "## Predict LTV using extrapolation"
   ]
  },
  {
   "cell_type": "code",
   "execution_count": null,
   "id": "1f69b510",
   "metadata": {},
   "outputs": [],
   "source": [
    "# Calculate average LTV for each cohort\n",
    "average_ltv_per_cohort = data.groupby('cohort_week')['LTV'].mean()\n",
    "\n",
    "# Extrapolate LTV for the year\n",
    "projected_ltv_year = average_ltv_per_cohort.mean() * 52  # Assuming 52 weeks in a year\n",
    "\n",
    "print(\"Projected LTV for the year :\", projected_ltv_year)"
   ]
  },
  {
   "cell_type": "code",
   "execution_count": null,
   "id": "5471037e",
   "metadata": {},
   "outputs": [],
   "source": [
    "# Calculate average LTV for each cohort\n",
    "average_ltv_per_cohort = data.groupby('cohort_week')['LTV2'].mean()\n",
    "\n",
    "# Extrapolate LTV for the year\n",
    "projected_ltv_year = average_ltv_per_cohort.mean() * 52  # Assuming 52 weeks in a year\n",
    "\n",
    "#print(average_ltv_per_cohort)\n",
    "print(\"Projected LTV for the year :\", projected_ltv_year)"
   ]
  },
  {
   "cell_type": "markdown",
   "id": "6c8e7187",
   "metadata": {},
   "source": [
    "## Predict LTV using Linear Regression"
   ]
  },
  {
   "cell_type": "code",
   "execution_count": null,
   "id": "50744bda",
   "metadata": {},
   "outputs": [],
   "source": [
    "from sklearn.linear_model import LinearRegression\n",
    "from sklearn.model_selection import train_test_split\n",
    "from sklearn.metrics import mean_squared_error\n",
    "from sklearn.metrics import r2_score\n",
    "\n",
    "\n",
    "features = ['lifetime_weeks']\n",
    "X = data[features].values.reshape(-1, len(features))\n",
    "y = data['LTV2'].values.reshape(-1, len(features))  "
   ]
  },
  {
   "cell_type": "code",
   "execution_count": null,
   "id": "439ba142",
   "metadata": {},
   "outputs": [],
   "source": [
    "print(X.shape, y.shape)"
   ]
  },
  {
   "cell_type": "code",
   "execution_count": null,
   "id": "557464be",
   "metadata": {},
   "outputs": [],
   "source": [
    "X_train, X_test, y_train, y_test = train_test_split(X, y, test_size=0.2, random_state=42)"
   ]
  },
  {
   "cell_type": "code",
   "execution_count": null,
   "id": "ce6c2b77",
   "metadata": {},
   "outputs": [],
   "source": [
    "model = LinearRegression()\n",
    "model.fit(X, y)"
   ]
  },
  {
   "cell_type": "code",
   "execution_count": null,
   "id": "828bb099",
   "metadata": {},
   "outputs": [],
   "source": [
    "# Evaluate the model\n",
    "y_pred = model.predict(X_test)\n",
    "mse = mean_squared_error(y_test, y_pred)\n",
    "accuracy = model.score(X_test, y_test)\n",
    "\n",
    "print(\"Mean Squared Error:\", mse)\n",
    "print(\"R-Squared Accuracy:\", accuracy)\n",
    "print(\"Predicted LTV for the next year: \", '\\n', y_pred)"
   ]
  },
  {
   "cell_type": "code",
   "execution_count": null,
   "id": "f2cf3227",
   "metadata": {},
   "outputs": [],
   "source": [
    "y_pred = np.round(y_pred, decimals=2)\n",
    "y_pred = y_pred.flatten().tolist()\n",
    "dff = pd.DataFrame(y_pred, columns=['LTV_pred'])\n",
    "print(dff)"
   ]
  },
  {
   "cell_type": "code",
   "execution_count": null,
   "id": "9f207003",
   "metadata": {},
   "outputs": [],
   "source": [
    "# Create and fit the linear regression model\n",
    "model_full = LinearRegression()\n",
    "model_full.fit(X, y)"
   ]
  },
  {
   "cell_type": "code",
   "execution_count": null,
   "id": "a5cf49e7",
   "metadata": {},
   "outputs": [],
   "source": [
    "full_pred = model_full.predict(X)\n",
    "accuracy2 = model_full.score(X, y)\n",
    "\n",
    "print(\"Predictions\", '\\n', full_pred)\n",
    "print(\"Accuracy\", accuracy2)"
   ]
  },
  {
   "cell_type": "code",
   "execution_count": null,
   "id": "dc9e95c4",
   "metadata": {
    "scrolled": true
   },
   "outputs": [],
   "source": [
    "full_pred = np.round(full_pred, decimals=2)\n",
    "full_pred = full_pred.flatten().tolist()\n",
    "data['LTV2_pred'] = pd.DataFrame(full_pred, columns=['LTV2_pred'])\n",
    "data"
   ]
  },
  {
   "cell_type": "code",
   "execution_count": null,
   "id": "2b6b15f6",
   "metadata": {},
   "outputs": [],
   "source": [
    "diff = data['LTV2_pred'] - data['LTV2']\n",
    "diff.mean()"
   ]
  },
  {
   "cell_type": "code",
   "execution_count": null,
   "id": "348c3643",
   "metadata": {},
   "outputs": [],
   "source": [
    "data.to_csv (r'C:/Users/Kate/Downloads/LTV_dataframe2.csv', index = None, header=True)"
   ]
  }
 ],
 "metadata": {
  "kernelspec": {
   "display_name": "Python 3",
   "language": "python",
   "name": "python3"
  },
  "language_info": {
   "codemirror_mode": {
    "name": "ipython",
    "version": 3
   },
   "file_extension": ".py",
   "mimetype": "text/x-python",
   "name": "python",
   "nbconvert_exporter": "python",
   "pygments_lexer": "ipython3",
   "version": "3.8.10"
  }
 },
 "nbformat": 4,
 "nbformat_minor": 5
}
